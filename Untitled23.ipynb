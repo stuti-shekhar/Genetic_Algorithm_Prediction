{
 "cells": [
  {
   "cell_type": "code",
   "execution_count": 1,
   "metadata": {},
   "outputs": [
    {
     "name": "stderr",
     "output_type": "stream",
     "text": [
      "In c:\\users\\hp\\appdata\\local\\programs\\python\\python37\\lib\\site-packages\\matplotlib\\mpl-data\\stylelib\\_classic_test.mplstyle: \n",
      "The savefig.frameon rcparam was deprecated in Matplotlib 3.1 and will be removed in 3.3.\n",
      "In c:\\users\\hp\\appdata\\local\\programs\\python\\python37\\lib\\site-packages\\matplotlib\\mpl-data\\stylelib\\_classic_test.mplstyle: \n",
      "The verbose.level rcparam was deprecated in Matplotlib 3.1 and will be removed in 3.3.\n",
      "In c:\\users\\hp\\appdata\\local\\programs\\python\\python37\\lib\\site-packages\\matplotlib\\mpl-data\\stylelib\\_classic_test.mplstyle: \n",
      "The verbose.fileo rcparam was deprecated in Matplotlib 3.1 and will be removed in 3.3.\n"
     ]
    }
   ],
   "source": [
    "import pandas as pd\n",
    "import numpy as np\n",
    "import matplotlib.pyplot as plt\n",
    "from sklearn.tree import DecisionTreeClassifier, plot_tree\n",
    "from sklearn.model_selection import train_test_split \n",
    "from sklearn import metrics, tree\n",
    "import math\n",
    "import random"
   ]
  },
  {
   "cell_type": "code",
   "execution_count": 2,
   "metadata": {
    "collapsed": true
   },
   "outputs": [],
   "source": [
    "pd.set_option('display.max_columns',50)\n",
    "data = pd.read_csv(\"C:/Users/hp/Desktop/Project_final_year/maths.csv\")\n",
    "for i in range(len(data)):\n",
    "    if data.iat[i,0] == \"GP\":\n",
    "        data.iat[i,0] = 0\n",
    "    if data.iat[i,0] == \"MS\":\n",
    "        data.iat[i,0] = 1\n",
    "    if data.iat[i,1]==\"F\":\n",
    "        data.iat[i,1] = 0\n",
    "    if data.iat[i,1]==\"M\":\n",
    "        data.iat[i,1] = 1\n",
    "    if data.iat[i,3]==\"U\":\n",
    "        data.iat[i,3] = 0\n",
    "    if data.iat[i,3]==\"R\":\n",
    "        data.iat[i,3] = 1\n",
    "    \n",
    "\n",
    "data[\"school\"] = data[\"school\"].astype(int)\n",
    "data[\"sex\"] = data[\"sex\"].astype(int)\n",
    "data[\"address\"] = data[\"address\"].astype(int)"
   ]
  },
  {
   "cell_type": "code",
   "execution_count": 3,
   "metadata": {
    "collapsed": true
   },
   "outputs": [],
   "source": [
    "for i in range(len(data)):\n",
    "    if data.iat[i,5]==\"T\":\n",
    "        data.iat[i,5] = 0\n",
    "    if data.iat[i,5]==\"A\":\n",
    "        data.iat[i,5] = 1\n",
    "data[\"Pstatus\"] = data[\"Pstatus\"].astype(int)"
   ]
  },
  {
   "cell_type": "code",
   "execution_count": 4,
   "metadata": {
    "collapsed": true
   },
   "outputs": [],
   "source": [
    "for i in range(len(data)):\n",
    "    if data.iat[i,4]==\"LE3\":\n",
    "        data.iat[i,4] = 0\n",
    "    if data.iat[i,4]==\"GT3\":\n",
    "        data.iat[i,4] = 1\n",
    "data[\"famsize\"] = data[\"famsize\"].astype(int)"
   ]
  },
  {
   "cell_type": "code",
   "execution_count": 5,
   "metadata": {
    "collapsed": true
   },
   "outputs": [],
   "source": [
    "for i in range(len(data)):\n",
    "    if data.iat[i,8]==\"health\":\n",
    "        data.iat[i,8] = 0\n",
    "    if data.iat[i,8]==\"at_home\":\n",
    "        data.iat[i,8] = 1\n",
    "    if data.iat[i,8]==\"services\":\n",
    "        data.iat[i,8] = 2\n",
    "    if data.iat[i,8]==\"teacher\":\n",
    "        data.iat[i,8] = 3\n",
    "    if data.iat[i,8]==\"other\":\n",
    "        data.iat[i,8] = 4\n",
    "    if data.iat[i,9]==\"health\":\n",
    "        data.iat[i,9] = 0\n",
    "    if data.iat[i,9]==\"at_home\":\n",
    "        data.iat[i,9] = 1\n",
    "    if data.iat[i,9]==\"services\":\n",
    "        data.iat[i,9] = 2\n",
    "    if data.iat[i,9]==\"teacher\":\n",
    "        data.iat[i,9] = 3\n",
    "    if data.iat[i,9]==\"other\":\n",
    "        data.iat[i,9] = 4\n",
    "\n",
    "data[\"Mjob\"] = data[\"Mjob\"].astype(int)\n",
    "data[\"Fjob\"] = data[\"Fjob\"].astype(int)"
   ]
  },
  {
   "cell_type": "code",
   "execution_count": 6,
   "metadata": {
    "collapsed": true
   },
   "outputs": [],
   "source": [
    "for i in range(len(data)):\n",
    "    if data.iat[i,15]==\"no\":\n",
    "        data.iat[i,15] = 0\n",
    "    if data.iat[i,15]==\"yes\":\n",
    "        data.iat[i,15] = 1\n",
    "    if data.iat[i,16]==\"no\":\n",
    "        data.iat[i,16] = 0\n",
    "    if data.iat[i,16]==\"yes\":\n",
    "        data.iat[i,16] = 1\n",
    "data[\"schoolsup\"] = data[\"schoolsup\"].astype(int)\n",
    "data[\"famsup\"] = data[\"famsup\"].astype(int)"
   ]
  },
  {
   "cell_type": "code",
   "execution_count": 7,
   "metadata": {
    "collapsed": true
   },
   "outputs": [],
   "source": [
    "for i in range(len(data)):\n",
    "    if data.iat[i,17]==\"no\":\n",
    "        data.iat[i,17] = 0\n",
    "    if data.iat[i,17]==\"yes\":\n",
    "        data.iat[i,17] = 1\n",
    "    if data.iat[i,18]==\"no\":\n",
    "        data.iat[i,18] = 0\n",
    "    if data.iat[i,18]==\"yes\":\n",
    "        data.iat[i,18] = 1\n",
    "data[\"paid\"] = data[\"paid\"].astype(int)\n",
    "data[\"activities\"] = data[\"activities\"].astype(int)"
   ]
  },
  {
   "cell_type": "code",
   "execution_count": 8,
   "metadata": {
    "collapsed": true
   },
   "outputs": [],
   "source": [
    "for i in range(len(data)):\n",
    "    if data.iat[i,22]==\"no\":\n",
    "        data.iat[i,22] = 0\n",
    "    if data.iat[i,22]==\"yes\":\n",
    "        data.iat[i,22] = 1\n",
    "    if data.iat[i,19]==\"no\":\n",
    "        data.iat[i,19] = 0\n",
    "    if data.iat[i,19]==\"yes\":\n",
    "        data.iat[i,19] = 1\n",
    "    if data.iat[i,20]==\"no\":\n",
    "        data.iat[i,20] = 0\n",
    "    if data.iat[i,20]==\"yes\":\n",
    "        data.iat[i,20] = 1\n",
    "    if data.iat[i,21]==\"no\":\n",
    "        data.iat[i,21] = 0\n",
    "    if data.iat[i,21]==\"yes\":\n",
    "        data.iat[i,21] = 1\n",
    "        \n",
    "data[\"nursery\"] = data[\"nursery\"].astype(int)\n",
    "data[\"higher\"] = data[\"higher\"].astype(int)\n",
    "data[\"internet\"] = data[\"internet\"].astype(int)\n",
    "data[\"romantic\"] = data[\"romantic\"].astype(int)"
   ]
  },
  {
   "cell_type": "code",
   "execution_count": 9,
   "metadata": {
    "collapsed": true
   },
   "outputs": [],
   "source": [
    "for i in range(len(data)):\n",
    "    if data.iat[i,11]==\"mother\":\n",
    "        data.iat[i,11] = 0\n",
    "    if data.iat[i,11]==\"father\":\n",
    "        data.iat[i,11] = 1\n",
    "    if data.iat[i,11]==\"other\":\n",
    "        data.iat[i,11] = 2\n",
    "data[\"guardian\"] = data[\"guardian\"].astype(int)"
   ]
  },
  {
   "cell_type": "code",
   "execution_count": 10,
   "metadata": {
    "collapsed": true
   },
   "outputs": [],
   "source": [
    "data_x = data.iloc[:,:-1]\n",
    "data_y = data.iloc[:,-1:]"
   ]
  },
  {
   "cell_type": "code",
   "execution_count": 11,
   "metadata": {},
   "outputs": [
    {
     "name": "stdout",
     "output_type": "stream",
     "text": [
      "46 140 169 40\n"
     ]
    }
   ],
   "source": [
    "ctr1 = ctr2 = ctr3 = ctr4 = 0\n",
    "for i in range(len(data_y)):\n",
    "    if data_y.iat[i,0]<=5:\n",
    "        data_y.iat[i,0]=0\n",
    "        ctr1+= 1\n",
    "    elif data_y.iat[i,0]>5 and data_y.iat[i,0]<11:\n",
    "        data_y.iat[i,0]=1\n",
    "        ctr2+= 1\n",
    "    elif data_y.iat[i,0]>=11 and data_y.iat[i,0]<16:\n",
    "        data_y.iat[i,0]=2\n",
    "        ctr3+= 1\n",
    "    else:\n",
    "        data_y.iat[i,0]=3\n",
    "        ctr4+= 1\n",
    "print(ctr1,ctr2,ctr3,ctr4)\n",
    "#print(np.array(data_y))"
   ]
  },
  {
   "cell_type": "code",
   "execution_count": 12,
   "metadata": {
    "collapsed": true
   },
   "outputs": [],
   "source": [
    "X_train, X_test, y_train, y_test = train_test_split(data_x, data_y, test_size=0.3, random_state=1)"
   ]
  },
  {
   "cell_type": "code",
   "execution_count": 13,
   "metadata": {
    "collapsed": true
   },
   "outputs": [],
   "source": [
    "col_names1 = ['school','sex','age','address']\n",
    "label = ['G3']\n",
    "personal_info_x_train = X_train[col_names1]\n",
    "personal_info_x_test = X_test[col_names1]\n",
    "personal_info_y_train = np.ravel(y_train[label])\n",
    "personal_info_y_test = np.ravel(y_test[label])\n"
   ]
  },
  {
   "cell_type": "code",
   "execution_count": 14,
   "metadata": {
    "collapsed": true
   },
   "outputs": [],
   "source": [
    "clf1 = DecisionTreeClassifier(max_depth = 2)\n",
    "clf1 = clf1.fit(personal_info_x_train,personal_info_y_train)"
   ]
  },
  {
   "cell_type": "code",
   "execution_count": 15,
   "metadata": {
    "collapsed": true
   },
   "outputs": [],
   "source": [
    "y_pred = clf1.predict(personal_info_x_test)"
   ]
  },
  {
   "cell_type": "code",
   "execution_count": 16,
   "metadata": {},
   "outputs": [
    {
     "name": "stdout",
     "output_type": "stream",
     "text": [
      "Accuracy: 0.48739495798319327\n"
     ]
    }
   ],
   "source": [
    "print(\"Accuracy:\",metrics.accuracy_score(y_test, y_pred))"
   ]
  },
  {
   "cell_type": "code",
   "execution_count": 149,
   "metadata": {},
   "outputs": [
    {
     "name": "stderr",
     "output_type": "stream",
     "text": [
      "c:\\users\\hp\\appdata\\local\\programs\\python\\python37\\lib\\site-packages\\sklearn\\externals\\six.py:31: FutureWarning: The module is deprecated in version 0.21 and will be removed in version 0.23 since we've dropped support for Python 2.7. Please rely on the official version of six (https://pypi.org/project/six/).\n",
      "  \"(https://pypi.org/project/six/).\", FutureWarning)\n"
     ]
    },
    {
     "name": "stdout",
     "output_type": "stream",
     "text": [
      "Qt: Untested Windows version 6.2 detected!\n",
      "C:/Program Files (x86)/Graphviz2.38/bin/gvedit.exe: illegal option -- 'T'\n",
      "C:/Program Files (x86)/Graphviz2.38/bin/gvedit.exe : option -T unrecognized - ignored\n",
      "C:/Program Files (x86)/Graphviz2.38/bin/gvedit.exe: illegal option -- 'p'\n",
      "C:/Program Files (x86)/Graphviz2.38/bin/gvedit.exe : option -p unrecognized - ignored\n",
      "C:/Program Files (x86)/Graphviz2.38/bin/gvedit.exe: illegal option -- 'n'\n",
      "C:/Program Files (x86)/Graphviz2.38/bin/gvedit.exe : option -n unrecognized - ignored\n",
      "C:/Program Files (x86)/Graphviz2.38/bin/gvedit.exe: illegal option -- 'g'\n",
      "C:/Program Files (x86)/Graphviz2.38/bin/gvedit.exe : option -g unrecognized - ignored\n",
      "Could not open attribute name file \"../share/graphviz/gvedit/attributes.txt\" for reading\n",
      "\n",
      "Qt: Untested Windows version 6.2 detected!\n",
      "C:/Program Files (x86)/Graphviz2.38/bin/gvedit.exe: illegal option -- 'T'\n",
      "C:/Program Files (x86)/Graphviz2.38/bin/gvedit.exe : option -T unrecognized - ignored\n",
      "C:/Program Files (x86)/Graphviz2.38/bin/gvedit.exe: illegal option -- 'p'\n",
      "C:/Program Files (x86)/Graphviz2.38/bin/gvedit.exe : option -p unrecognized - ignored\n",
      "C:/Program Files (x86)/Graphviz2.38/bin/gvedit.exe: illegal option -- 'n'\n",
      "C:/Program Files (x86)/Graphviz2.38/bin/gvedit.exe : option -n unrecognized - ignored\n",
      "C:/Program Files (x86)/Graphviz2.38/bin/gvedit.exe: illegal option -- 'g'\n",
      "C:/Program Files (x86)/Graphviz2.38/bin/gvedit.exe : option -g unrecognized - ignored\n",
      "Could not open attribute name file \"../share/graphviz/gvedit/attributes.txt\" for reading\n",
      "\n"
     ]
    },
    {
     "data": {
      "image/png": "\n",
      "text/plain": [
       "<IPython.core.display.Image object>"
      ]
     },
     "execution_count": 149,
     "metadata": {},
     "output_type": "execute_result"
    }
   ],
   "source": [
    "from sklearn.tree import export_graphviz\n",
    "from sklearn.externals.six import StringIO  \n",
    "from IPython.display import Image  \n",
    "import pydotplus\n",
    "import os\n",
    "\n",
    "dot_data = StringIO()\n",
    "col_names = ['school','sex','age','address']\n",
    "export_graphviz(clf1, out_file=dot_data,  \n",
    "                filled=True, rounded=True,\n",
    "                special_characters=True,feature_names = col_names,class_names=[\"0\",\"1\",\"2\",\"3\"])\n",
    "graph = pydotplus.graph_from_dot_data(dot_data.getvalue())  \n",
    "graph.write_png('grades.png')\n",
    "Image(graph.create_png())"
   ]
  },
  {
   "cell_type": "code",
   "execution_count": 17,
   "metadata": {
    "collapsed": true
   },
   "outputs": [],
   "source": [
    "col_names2 = ['traveltime','studytime','freetime','health']\n",
    "label = ['G3']\n",
    "gf_x_train = X_train[col_names2]\n",
    "gf_x_test = X_test[col_names2]\n",
    "gf_y_train = y_train[label]\n",
    "gf_y_test = y_test[label]"
   ]
  },
  {
   "cell_type": "code",
   "execution_count": 18,
   "metadata": {
    "collapsed": true
   },
   "outputs": [],
   "source": [
    "clf2 = DecisionTreeClassifier(max_depth =2)\n",
    "clf2 = clf2.fit(gf_x_train,gf_y_train,)"
   ]
  },
  {
   "cell_type": "code",
   "execution_count": 19,
   "metadata": {
    "collapsed": true
   },
   "outputs": [],
   "source": [
    "y_pred = clf2.predict(gf_x_test)"
   ]
  },
  {
   "cell_type": "code",
   "execution_count": 20,
   "metadata": {},
   "outputs": [
    {
     "name": "stdout",
     "output_type": "stream",
     "text": [
      "Accuracy: 0.48739495798319327\n"
     ]
    }
   ],
   "source": [
    "print(\"Accuracy:\",metrics.accuracy_score(y_test, y_pred))"
   ]
  },
  {
   "cell_type": "code",
   "execution_count": 123,
   "metadata": {},
   "outputs": [
    {
     "name": "stderr",
     "output_type": "stream",
     "text": [
      "c:\\users\\hp\\appdata\\local\\programs\\python\\python37\\lib\\site-packages\\sklearn\\externals\\six.py:31: FutureWarning: The module is deprecated in version 0.21 and will be removed in version 0.23 since we've dropped support for Python 2.7. Please rely on the official version of six (https://pypi.org/project/six/).\n",
      "  \"(https://pypi.org/project/six/).\", FutureWarning)\n"
     ]
    },
    {
     "name": "stdout",
     "output_type": "stream",
     "text": [
      "Qt: Untested Windows version 6.2 detected!\n",
      "C:/Program Files (x86)/Graphviz2.38/bin/gvedit.exe: illegal option -- 'T'\n",
      "C:/Program Files (x86)/Graphviz2.38/bin/gvedit.exe : option -T unrecognized - ignored\n",
      "C:/Program Files (x86)/Graphviz2.38/bin/gvedit.exe: illegal option -- 'p'\n",
      "C:/Program Files (x86)/Graphviz2.38/bin/gvedit.exe : option -p unrecognized - ignored\n",
      "C:/Program Files (x86)/Graphviz2.38/bin/gvedit.exe: illegal option -- 'n'\n",
      "C:/Program Files (x86)/Graphviz2.38/bin/gvedit.exe : option -n unrecognized - ignored\n",
      "C:/Program Files (x86)/Graphviz2.38/bin/gvedit.exe: illegal option -- 'g'\n",
      "C:/Program Files (x86)/Graphviz2.38/bin/gvedit.exe : option -g unrecognized - ignored\n",
      "Could not open attribute name file \"../share/graphviz/gvedit/attributes.txt\" for reading\n",
      "\n",
      "Qt: Untested Windows version 6.2 detected!\n",
      "C:/Program Files (x86)/Graphviz2.38/bin/gvedit.exe: illegal option -- 'T'\n",
      "C:/Program Files (x86)/Graphviz2.38/bin/gvedit.exe : option -T unrecognized - ignored\n",
      "C:/Program Files (x86)/Graphviz2.38/bin/gvedit.exe: illegal option -- 'p'\n",
      "C:/Program Files (x86)/Graphviz2.38/bin/gvedit.exe : option -p unrecognized - ignored\n",
      "C:/Program Files (x86)/Graphviz2.38/bin/gvedit.exe: illegal option -- 'n'\n",
      "C:/Program Files (x86)/Graphviz2.38/bin/gvedit.exe : option -n unrecognized - ignored\n",
      "C:/Program Files (x86)/Graphviz2.38/bin/gvedit.exe: illegal option -- 'g'\n",
      "C:/Program Files (x86)/Graphviz2.38/bin/gvedit.exe : option -g unrecognized - ignored\n",
      "Could not open attribute name file \"../share/graphviz/gvedit/attributes.txt\" for reading\n",
      "\n"
     ]
    },
    {
     "data": {
      "image/png": "\n",
      "text/plain": [
       "<IPython.core.display.Image object>"
      ]
     },
     "execution_count": 123,
     "metadata": {},
     "output_type": "execute_result"
    }
   ],
   "source": [
    "from sklearn.tree import export_graphviz\n",
    "from sklearn.externals.six import StringIO  \n",
    "from IPython.display import Image  \n",
    "import pydotplus\n",
    "import os\n",
    "\n",
    "dot_data = StringIO()\n",
    "#col_names = ['school','sex','age','address']\n",
    "export_graphviz(clf2, out_file=dot_data,  \n",
    "                filled=True, rounded=True,\n",
    "                special_characters=True,feature_names = col_names2,class_names=[\"0\",\"1\",\"2\",\"3\"])\n",
    "graph = pydotplus.graph_from_dot_data(dot_data.getvalue())  \n",
    "graph.write_png('grades.png')\n",
    "Image(graph.create_png())"
   ]
  },
  {
   "cell_type": "code",
   "execution_count": 21,
   "metadata": {
    "collapsed": true
   },
   "outputs": [],
   "source": [
    "col_names3 = [\"Dalc\",\"Walc\",\"goout\",\"internet\",\"romantic\",\"famrel\"]\n",
    "label = ['G3']\n",
    "hr_x_train = X_train[col_names3]\n",
    "hr_x_test = X_test[col_names3]\n",
    "hr_y_train = y_train[label]\n",
    "hr_y_test = y_test[label]"
   ]
  },
  {
   "cell_type": "code",
   "execution_count": 22,
   "metadata": {
    "collapsed": true
   },
   "outputs": [],
   "source": [
    "clf3 = DecisionTreeClassifier(max_depth=3)\n",
    "clf3 = clf3.fit(hr_x_train,hr_y_train)"
   ]
  },
  {
   "cell_type": "code",
   "execution_count": 23,
   "metadata": {
    "collapsed": true
   },
   "outputs": [],
   "source": [
    "y_pred = clf3.predict(hr_x_test)"
   ]
  },
  {
   "cell_type": "code",
   "execution_count": 24,
   "metadata": {},
   "outputs": [
    {
     "name": "stdout",
     "output_type": "stream",
     "text": [
      "Accuracy: 0.47058823529411764\n"
     ]
    }
   ],
   "source": [
    "print(\"Accuracy:\",metrics.accuracy_score(y_test, y_pred))"
   ]
  },
  {
   "cell_type": "code",
   "execution_count": 245,
   "metadata": {},
   "outputs": [
    {
     "name": "stdout",
     "output_type": "stream",
     "text": [
      "Qt: Untested Windows version 6.2 detected!\n",
      "C:/Program Files (x86)/Graphviz2.38/bin/gvedit.exe: illegal option -- 'T'\n",
      "C:/Program Files (x86)/Graphviz2.38/bin/gvedit.exe : option -T unrecognized - ignored\n",
      "C:/Program Files (x86)/Graphviz2.38/bin/gvedit.exe: illegal option -- 'p'\n",
      "C:/Program Files (x86)/Graphviz2.38/bin/gvedit.exe : option -p unrecognized - ignored\n",
      "C:/Program Files (x86)/Graphviz2.38/bin/gvedit.exe: illegal option -- 'n'\n",
      "C:/Program Files (x86)/Graphviz2.38/bin/gvedit.exe : option -n unrecognized - ignored\n",
      "C:/Program Files (x86)/Graphviz2.38/bin/gvedit.exe: illegal option -- 'g'\n",
      "C:/Program Files (x86)/Graphviz2.38/bin/gvedit.exe : option -g unrecognized - ignored\n",
      "Could not open attribute name file \"../share/graphviz/gvedit/attributes.txt\" for reading\n",
      "\n",
      "Qt: Untested Windows version 6.2 detected!\n",
      "C:/Program Files (x86)/Graphviz2.38/bin/gvedit.exe: illegal option -- 'T'\n",
      "C:/Program Files (x86)/Graphviz2.38/bin/gvedit.exe : option -T unrecognized - ignored\n",
      "C:/Program Files (x86)/Graphviz2.38/bin/gvedit.exe: illegal option -- 'p'\n",
      "C:/Program Files (x86)/Graphviz2.38/bin/gvedit.exe : option -p unrecognized - ignored\n",
      "C:/Program Files (x86)/Graphviz2.38/bin/gvedit.exe: illegal option -- 'n'\n",
      "C:/Program Files (x86)/Graphviz2.38/bin/gvedit.exe : option -n unrecognized - ignored\n",
      "C:/Program Files (x86)/Graphviz2.38/bin/gvedit.exe: illegal option -- 'g'\n",
      "C:/Program Files (x86)/Graphviz2.38/bin/gvedit.exe : option -g unrecognized - ignored\n",
      "Could not open attribute name file \"../share/graphviz/gvedit/attributes.txt\" for reading\n",
      "\n"
     ]
    },
    {
     "data": {
      "image/png": "\n",
      "text/plain": [
       "<IPython.core.display.Image object>"
      ]
     },
     "execution_count": 245,
     "metadata": {},
     "output_type": "execute_result"
    }
   ],
   "source": [
    "from sklearn.tree import export_graphviz\n",
    "from sklearn.externals.six import StringIO  \n",
    "from IPython.display import Image  \n",
    "import pydotplus\n",
    "import os\n",
    "\n",
    "dot_data = StringIO()\n",
    "#col_names = ['school','sex','age','address']\n",
    "export_graphviz(clf3, out_file=dot_data,  \n",
    "                filled=True, rounded=True,\n",
    "                special_characters=True,feature_names = col_names3,class_names=[\"0\",\"1\",\"2\",\"3\"])\n",
    "graph = pydotplus.graph_from_dot_data(dot_data.getvalue())  \n",
    "graph.write_png('grades.png')\n",
    "Image(graph.create_png())"
   ]
  },
  {
   "cell_type": "code",
   "execution_count": null,
   "metadata": {
    "collapsed": true
   },
   "outputs": [],
   "source": []
  },
  {
   "cell_type": "code",
   "execution_count": null,
   "metadata": {
    "collapsed": true
   },
   "outputs": [],
   "source": []
  },
  {
   "cell_type": "code",
   "execution_count": null,
   "metadata": {
    "collapsed": true
   },
   "outputs": [],
   "source": []
  },
  {
   "cell_type": "code",
   "execution_count": null,
   "metadata": {
    "collapsed": true
   },
   "outputs": [],
   "source": []
  },
  {
   "cell_type": "code",
   "execution_count": 29,
   "metadata": {
    "collapsed": true
   },
   "outputs": [],
   "source": [
    "from collections import deque\n",
    "\n",
    "def breadth_first_traversal(tree):\n",
    "    left = [-1] * int(math.pow(2, tree.max_depth + 1) - 1)\n",
    "    right = [-1] * int(math.pow(2, tree.max_depth + 1) - 1)\n",
    "    curr = [-1] * int(math.pow(2, tree.max_depth + 1) - 1)\n",
    "    len(left)\n",
    "    stack = deque()\n",
    "    stack.append(0)\n",
    "    #print (stack)\n",
    "    ctr = 0\n",
    "    while stack:\n",
    "        current_node = stack.popleft()\n",
    "        if current_node not in curr:\n",
    "            curr[ctr] = current_node\n",
    "        #yield current_node\n",
    "        left_child = tree.children_left[current_node]\n",
    "        if left_child >= 0 :\n",
    "            left[ctr] = left_child\n",
    "            curr [2 * ctr + 1 ] = left_child\n",
    "            stack.append(left_child)\n",
    "            \n",
    "        right_child = tree.children_right[current_node]\n",
    "        if right_child >= 0:\n",
    "            right[ctr] = right_child\n",
    "            curr [2 * ctr + 2 ] = right_child\n",
    "            stack.append(right_child)\n",
    "        ctr = ctr + 1\n",
    "        \n",
    "    return (curr)"
   ]
  },
  {
   "cell_type": "code",
   "execution_count": 30,
   "metadata": {
    "collapsed": true
   },
   "outputs": [],
   "source": [
    "def encoding(clf, features):\n",
    "    l1 = list()\n",
    "    l2 = list()\n",
    "    l3 = breadth_first_traversal(clf.tree_)\n",
    "    for i in range(len(l3)):\n",
    "        if l3[i] >= 0:\n",
    "            if(clf.tree_.feature[l3[i]]>=0):\n",
    "                l1.append( features[clf.tree_.feature[l3[i]]])\n",
    "                l2.append(clf.tree_.threshold[l3[i]])\n",
    "            else:\n",
    "                l1.append(None)\n",
    "                l2.append(np.argmax(clf.tree_.value[l3[i]]))\n",
    "        else:\n",
    "                l1.append(-1)\n",
    "                l2.append(-1)\n",
    "                \n",
    "\n",
    "    l = [l1 , l2]\n",
    "\n",
    "    return l"
   ]
  },
  {
   "cell_type": "code",
   "execution_count": 31,
   "metadata": {
    "collapsed": true
   },
   "outputs": [],
   "source": [
    "def fitness( ch, start, i):\n",
    "    ch = ch\n",
    "    th = ch[1][start]\n",
    "    attr = ch[0][start]\n",
    "    if( attr == None ):\n",
    "        return (th)\n",
    "    if(attr != None):\n",
    "        val = data[attr][X_test.index[i]]\n",
    "        #print(attr, start, th, val)\n",
    "    if( val <= th ):\n",
    "        #print(i, X_test.index[i], start)\n",
    "        return fitness( ch, (2 * start) + 1, i )\n",
    "    if( val > th ):\n",
    "        #print(i, X_test.index[i], start)\n",
    "        return fitness( ch, (2 * start) + 2, i )"
   ]
  },
  {
   "cell_type": "code",
   "execution_count": 32,
   "metadata": {
    "collapsed": true
   },
   "outputs": [],
   "source": [
    "def fitnessvalue(ch):\n",
    "    y_pred1 = list()\n",
    "    for i in range(len(X_test)):\n",
    "        val = fitness( ch, 0, i)\n",
    "        y_pred1.append(val)\n",
    "    #initial_pop.append([ch,metrics.accuracy_score(y_test, y_pred1)])\n",
    "    #initial_pop.sort(key = sorting, reverse = True)\n",
    "    return metrics.accuracy_score(y_test, y_pred1)\n",
    "    \n"
   ]
  },
  {
   "cell_type": "code",
   "execution_count": 33,
   "metadata": {
    "collapsed": true
   },
   "outputs": [],
   "source": [
    "def sorting(i):\n",
    "    return i[1]"
   ]
  },
  {
   "cell_type": "code",
   "execution_count": 34,
   "metadata": {
    "collapsed": true
   },
   "outputs": [],
   "source": [
    "def offspring(ch1, ch2, start):\n",
    "    stack = deque()\n",
    "    stack.append(start)\n",
    "    m = max(len(ch1[0]), len(ch2[0]))\n",
    "    off1 = list()\n",
    "    off2 = list()\n",
    "    ch1_f = [-1.0] * int(m)\n",
    "    ch1_t = [-1.0] * int(m)\n",
    "    ch2_f = [-1.0] * int(m)\n",
    "    ch2_t = [-1.0] * int(m)\n",
    "    while stack:\n",
    "        current_node = stack.popleft()\n",
    "        off1.append(current_node)\n",
    "        left = 2 * current_node + 1 \n",
    "        right = 2 * current_node + 2\n",
    "        #print(left,right,len(ch[0]))\n",
    "        \n",
    "        if ( left < len(ch1[0])):\n",
    "            stack.append(left)\n",
    "        if ( right < len(ch1[0])):\n",
    "            stack.append(right)\n",
    "    stack.append(start)\n",
    "    while stack:\n",
    "        current_node = stack.popleft()\n",
    "        off2.append(current_node)\n",
    "        left = 2 * current_node + 1 \n",
    "        right = 2 * current_node + 2\n",
    "        #print(left,right,len(ch[0]))\n",
    "        \n",
    "        if ( left < len(ch2[0])):\n",
    "            stack.append(left)\n",
    "        if ( right < len(ch2[0])):\n",
    "            stack.append(right)\n",
    "        \n",
    "        #print(stack)\n",
    "    for i in range(len(ch1[0])):\n",
    "        if i in off1:\n",
    "            ch1_f[i] = -1\n",
    "            ch1_t[i] = -1\n",
    "        else:\n",
    "            ch1_f[i] = ch1[0][i]\n",
    "            ch1_t[i] = ch1[1][i]\n",
    "    for i in range(m):\n",
    "        if i in off2:\n",
    "            #print(i)\n",
    "            ch1_f[i] = ch2[0][i]\n",
    "            ch1_t[i] = ch2[1][i]\n",
    "    chi1 = [ch1_f,ch1_t]\n",
    "    \n",
    "    for i in range(len(ch2[0])):\n",
    "        if i in off2:\n",
    "            ch2_f[i] = -1\n",
    "            ch2_t[i] = -1\n",
    "        else:\n",
    "            ch2_f[i] = ch2[0][i]\n",
    "            ch2_t[i] = ch2[1][i]\n",
    "    for i in range(m):\n",
    "        if i in off1:\n",
    "            #print(i)\n",
    "            ch2_f[i] = ch1[0][i]\n",
    "            ch2_t[i] = ch1[1][i]\n",
    "    chi2 = [ch2_f,ch2_t]\n",
    "    f1 = fitnessvalue(chi1)\n",
    "    f2 = fitnessvalue(chi2)\n",
    "    return [chi1, f1], [chi2, f2]           \n",
    "        "
   ]
  },
  {
   "cell_type": "code",
   "execution_count": 35,
   "metadata": {
    "collapsed": true
   },
   "outputs": [],
   "source": [
    "def crossover(ch1, ch2):\n",
    "    b = min(len(ch1),len(ch2))\n",
    "    ctr = True\n",
    "    while ctr:\n",
    "        r = random.randint(1,pow(2,b)-1)\n",
    "        if (ch1[0][r]!=-1 or ch1[0][r]!=-None or ch2[0][r]!=-1 or ch2[0][r]!=None):\n",
    "            ctr = False\n",
    "    return offspring(ch1, ch2, r)"
   ]
  },
  {
   "cell_type": "code",
   "execution_count": 78,
   "metadata": {
    "collapsed": true
   },
   "outputs": [],
   "source": [
    "def mutation(ch, k):\n",
    "    #print(ch)\n",
    "    ch1_f = [-1] * len(ch[0])\n",
    "    ch1_t = [-1] * len(ch[0])\n",
    "    for i in range(len(ch[0])):\n",
    "        ch1_f[i] = ch[0][i]\n",
    "        ch1_t[i] = ch[1][i]\n",
    "    f = []\n",
    "    c = []\n",
    "    klas = [0, 1, 2 ,3]\n",
    "    for i in range(len(ch[0])):\n",
    "        if ch[0][i]!= -1 and ch[0][i]!= None:\n",
    "            f.append(i)\n",
    "        if ch[0][i] == None:\n",
    "            c.append(i)\n",
    "    #print(f,c)\n",
    "    cn = int( k* len(c) )\n",
    "    fn = int( k* len(f) )\n",
    "    rcn = []\n",
    "    #print(cn,fn)\n",
    "    for i in range(cn):\n",
    "        ctr = True\n",
    "        while ctr:\n",
    "            r = random.randint(0,len(c)-1)\n",
    "            if r in rcn:\n",
    "                ctr = True\n",
    "            else:\n",
    "                rcn.append(r)\n",
    "                ctr = False\n",
    "    \n",
    "    fcn = []\n",
    "    for i in range(fn):\n",
    "        ctr = True\n",
    "        while ctr:\n",
    "            r = random.randint(0,len(f)-1)\n",
    "            if r in fcn:\n",
    "                ctr = True\n",
    "            else:\n",
    "                fcn.append(r)\n",
    "                ctr = False\n",
    "    \n",
    "    #print(rcn,fcn)\n",
    "    \n",
    "    for i in fcn:\n",
    "        ind = f[i]\n",
    "        r = random.randint(0,1)\n",
    "        if r == 0:\n",
    "            ch1_t[ind] = ch[1][ind] - 1\n",
    "        if r == 1:\n",
    "            ch_f[ind] = ch[1][ind] + 1\n",
    "            \n",
    "            \n",
    "    for i in rcn:\n",
    "        #print(i)\n",
    "        ind = c[i]\n",
    "        r = random.randint(0,3)\n",
    "        if r == 0:\n",
    "            ch1_t[ind] = 0\n",
    "        if r == 1:\n",
    "            ch1_t[ind] = 1\n",
    "        if r == 2:\n",
    "            ch1_t[ind] = 2\n",
    "        if r == 3:\n",
    "            ch1_t[ind] = 3\n",
    "    \n",
    "    return [ch1_f,ch1_t]\n",
    "        \n",
    "    "
   ]
  },
  {
   "cell_type": "code",
   "execution_count": 79,
   "metadata": {},
   "outputs": [
    {
     "name": "stdout",
     "output_type": "stream",
     "text": [
      "[['traveltime', 'freetime', 'studytime', None, None, None, None], [1.5, 3.5, 1.5, 3, 3, 3, 3]] [['traveltime', 'freetime', 'studytime', None, None, None, None], [1.5, 4.5, 1.5, 3, 0, 1, 3]]\n"
     ]
    }
   ],
   "source": [
    "chm2 = mutation(ch2, k =0.5)\n",
    "print(chm2,ch2)"
   ]
  },
  {
   "cell_type": "code",
   "execution_count": 48,
   "metadata": {
    "collapsed": true
   },
   "outputs": [],
   "source": [
    "def selection(pop, k):\n",
    "    n = int(len(pop) * k)\n",
    "    u = []\n",
    "    l = []\n",
    "    for i in range(int(n)):\n",
    "        #print(i)\n",
    "        ctr = True\n",
    "        while ctr:\n",
    "            f = random.randint(0, n)\n",
    "            s = random.randint(n+1, len(pop)-1)\n",
    "            #print(f,s)\n",
    "            if f in u or s in l:\n",
    "                ctr = True\n",
    "            else:\n",
    "                ctr = False\n",
    "        u.append(f)\n",
    "        l.append(s)\n",
    "                \n",
    "    return u, l"
   ]
  },
  {
   "cell_type": "code",
   "execution_count": 49,
   "metadata": {},
   "outputs": [
    {
     "data": {
      "text/plain": [
       "([0], [2])"
      ]
     },
     "execution_count": 49,
     "metadata": {},
     "output_type": "execute_result"
    }
   ],
   "source": [
    "selection(initial_pop, k=0.2)"
   ]
  },
  {
   "cell_type": "code",
   "execution_count": 186,
   "metadata": {},
   "outputs": [
    {
     "name": "stdout",
     "output_type": "stream",
     "text": [
      "0 1\n",
      "0 2\n",
      "0 3\n",
      "0 4\n",
      "0 5\n",
      "0 6\n",
      "0 7\n",
      "0 8\n",
      "1 2\n",
      "1 3\n",
      "1 4\n",
      "1 5\n",
      "1 6\n",
      "1 7\n",
      "1 8\n",
      "2 3\n",
      "2 4\n",
      "2 5\n",
      "2 6\n",
      "2 7\n",
      "2 8\n",
      "3 4\n",
      "3 5\n",
      "3 6\n",
      "3 7\n",
      "3 8\n",
      "4 5\n",
      "4 6\n",
      "4 7\n",
      "4 8\n",
      "5 6\n",
      "5 7\n",
      "5 8\n",
      "6 7\n",
      "6 8\n",
      "7 8\n",
      "0 1\n",
      "0 2\n",
      "0 3\n",
      "0 4\n",
      "0 5\n",
      "0 6\n",
      "0 7\n",
      "0 8\n",
      "1 2\n",
      "1 3\n",
      "1 4\n",
      "1 5\n",
      "1 6\n",
      "1 7\n",
      "2 3\n",
      "2 4\n",
      "2 5\n",
      "2 6\n",
      "2 7\n",
      "3 4\n",
      "3 5\n",
      "3 6\n",
      "3 7\n",
      "4 5\n",
      "4 6\n",
      "4 7\n",
      "5 6\n",
      "5 7\n",
      "6 7\n",
      "0 1\n",
      "0 2\n",
      "0 3\n",
      "0 4\n",
      "0 5\n",
      "0 6\n",
      "0 7\n",
      "0 8\n",
      "1 2\n",
      "1 3\n",
      "1 4\n",
      "1 5\n",
      "1 6\n",
      "1 7\n",
      "1 8\n",
      "2 3\n",
      "2 4\n",
      "2 5\n",
      "2 6\n",
      "2 7\n",
      "2 8\n",
      "3 4\n",
      "3 5\n",
      "3 6\n",
      "3 7\n",
      "3 8\n",
      "4 5\n",
      "4 6\n",
      "4 7\n",
      "4 8\n",
      "5 6\n",
      "5 7\n",
      "5 8\n",
      "6 7\n",
      "6 8\n",
      "7 8\n",
      "0 1\n",
      "0 2\n",
      "0 3\n",
      "0 4\n",
      "0 5\n",
      "0 6\n",
      "0 7\n",
      "0 8\n",
      "1 2\n",
      "1 3\n",
      "1 4\n",
      "1 5\n",
      "1 6\n",
      "1 7\n",
      "2 3\n",
      "2 4\n",
      "2 5\n",
      "2 6\n",
      "2 7\n",
      "3 4\n",
      "3 5\n",
      "3 6\n",
      "4 5\n",
      "0 1\n",
      "0 2\n",
      "0 3\n",
      "0 4\n",
      "0 5\n",
      "0 6\n",
      "0 7\n",
      "0 8\n",
      "1 2\n",
      "1 3\n",
      "1 4\n",
      "1 5\n",
      "1 6\n",
      "1 7\n",
      "1 8\n",
      "2 3\n",
      "2 4\n",
      "2 5\n",
      "2 6\n",
      "2 7\n",
      "2 8\n",
      "3 4\n",
      "3 5\n",
      "3 6\n",
      "3 7\n",
      "3 8\n",
      "4 5\n",
      "4 6\n",
      "4 7\n",
      "5 6\n",
      "0 1\n",
      "0 2\n",
      "0 3\n",
      "0 4\n",
      "0 5\n",
      "0 6\n",
      "0 7\n",
      "0 8\n",
      "1 2\n",
      "1 3\n",
      "1 4\n",
      "1 5\n",
      "1 6\n",
      "1 7\n",
      "2 3\n",
      "2 4\n",
      "2 5\n",
      "2 6\n",
      "3 4\n",
      "3 5\n",
      "3 6\n",
      "4 5\n",
      "4 6\n",
      "5 6\n",
      "0 1\n",
      "0 2\n",
      "0 3\n",
      "0 4\n",
      "0 5\n",
      "0 6\n",
      "0 7\n",
      "0 8\n",
      "1 2\n",
      "1 3\n",
      "1 4\n",
      "1 5\n",
      "1 6\n",
      "1 7\n",
      "1 8\n",
      "2 3\n",
      "2 4\n",
      "2 5\n",
      "2 6\n",
      "2 7\n",
      "3 4\n",
      "3 5\n",
      "3 6\n",
      "3 7\n",
      "4 5\n",
      "4 6\n",
      "4 7\n",
      "5 6\n",
      "5 7\n",
      "6 7\n",
      "0 1\n",
      "0 2\n",
      "0 3\n",
      "0 4\n",
      "0 5\n",
      "0 6\n",
      "0 7\n",
      "0 8\n",
      "1 2\n",
      "1 3\n",
      "1 4\n",
      "1 5\n",
      "1 6\n",
      "1 7\n",
      "2 3\n",
      "2 4\n",
      "2 5\n",
      "2 6\n",
      "3 4\n",
      "3 5\n",
      "3 6\n",
      "4 5\n",
      "4 6\n",
      "5 6\n",
      "0 1\n",
      "0 2\n",
      "0 3\n",
      "0 4\n",
      "0 5\n",
      "0 6\n",
      "0 7\n",
      "0 8\n",
      "1 2\n",
      "1 3\n",
      "1 4\n",
      "1 5\n",
      "1 6\n",
      "1 7\n",
      "2 3\n",
      "2 4\n",
      "2 5\n",
      "2 6\n",
      "3 4\n",
      "3 5\n",
      "3 6\n",
      "4 5\n",
      "0 1\n",
      "0 2\n",
      "0 3\n",
      "0 4\n",
      "0 5\n",
      "0 6\n",
      "0 7\n",
      "0 8\n",
      "1 2\n",
      "1 3\n",
      "1 4\n",
      "1 5\n",
      "1 6\n",
      "1 7\n",
      "2 3\n",
      "2 4\n",
      "2 5\n",
      "2 6\n",
      "3 4\n",
      "3 5\n",
      "3 6\n",
      "4 5\n",
      "0 1\n",
      "0 2\n",
      "0 3\n",
      "0 4\n",
      "0 5\n",
      "0 6\n",
      "0 7\n",
      "0 8\n",
      "1 2\n",
      "1 3\n",
      "1 4\n",
      "1 5\n",
      "1 6\n",
      "1 7\n",
      "2 3\n",
      "2 4\n",
      "2 5\n",
      "2 6\n",
      "2 7\n",
      "3 4\n",
      "3 5\n",
      "3 6\n",
      "4 5\n",
      "4 6\n",
      "0 1\n",
      "0 2\n",
      "0 3\n",
      "0 4\n",
      "0 5\n",
      "0 6\n",
      "0 7\n",
      "0 8\n"
     ]
    },
    {
     "ename": "IndexError",
     "evalue": "list index out of range",
     "output_type": "error",
     "traceback": [
      "\u001b[1;31m---------------------------------------------------------------------------\u001b[0m",
      "\u001b[1;31mIndexError\u001b[0m                                Traceback (most recent call last)",
      "\u001b[1;32m<ipython-input-186-116b014877c7>\u001b[0m in \u001b[0;36m<module>\u001b[1;34m\u001b[0m\n\u001b[0;32m      5\u001b[0m         \u001b[1;32mfor\u001b[0m \u001b[0mj\u001b[0m \u001b[1;32min\u001b[0m \u001b[0mrange\u001b[0m\u001b[1;33m(\u001b[0m\u001b[0mi\u001b[0m\u001b[1;33m+\u001b[0m\u001b[1;36m1\u001b[0m\u001b[1;33m,\u001b[0m\u001b[0mlen\u001b[0m\u001b[1;33m(\u001b[0m\u001b[0minitial_pop\u001b[0m\u001b[1;33m)\u001b[0m\u001b[1;33m-\u001b[0m\u001b[1;36m1\u001b[0m\u001b[1;33m)\u001b[0m\u001b[1;33m:\u001b[0m\u001b[1;33m\u001b[0m\u001b[1;33m\u001b[0m\u001b[0m\n\u001b[0;32m      6\u001b[0m             \u001b[0mprint\u001b[0m\u001b[1;33m(\u001b[0m\u001b[0mi\u001b[0m\u001b[1;33m,\u001b[0m\u001b[0mj\u001b[0m\u001b[1;33m)\u001b[0m\u001b[1;33m\u001b[0m\u001b[1;33m\u001b[0m\u001b[0m\n\u001b[1;32m----> 7\u001b[1;33m             \u001b[1;32mif\u001b[0m\u001b[1;33m(\u001b[0m\u001b[0minitial_pop\u001b[0m\u001b[1;33m[\u001b[0m\u001b[0mi\u001b[0m\u001b[1;33m]\u001b[0m\u001b[1;33m==\u001b[0m\u001b[0minitial_pop\u001b[0m\u001b[1;33m[\u001b[0m\u001b[0mj\u001b[0m\u001b[1;33m]\u001b[0m\u001b[1;33m)\u001b[0m\u001b[1;33m:\u001b[0m\u001b[1;33m\u001b[0m\u001b[1;33m\u001b[0m\u001b[0m\n\u001b[0m\u001b[0;32m      8\u001b[0m                 \u001b[0minitial_pop\u001b[0m\u001b[1;33m.\u001b[0m\u001b[0mpop\u001b[0m\u001b[1;33m(\u001b[0m\u001b[0mj\u001b[0m\u001b[1;33m)\u001b[0m\u001b[1;33m\u001b[0m\u001b[1;33m\u001b[0m\u001b[0m\n\u001b[0;32m      9\u001b[0m     \u001b[0mu\u001b[0m\u001b[1;33m,\u001b[0m \u001b[0ml\u001b[0m \u001b[1;33m=\u001b[0m \u001b[0mselection\u001b[0m\u001b[1;33m(\u001b[0m\u001b[0minitial_pop\u001b[0m\u001b[1;33m,\u001b[0m \u001b[0mk\u001b[0m\u001b[1;33m=\u001b[0m\u001b[1;36m0.2\u001b[0m\u001b[1;33m)\u001b[0m\u001b[1;33m\u001b[0m\u001b[1;33m\u001b[0m\u001b[0m\n",
      "\u001b[1;31mIndexError\u001b[0m: list index out of range"
     ]
    }
   ],
   "source": [
    "for i in range(100):\n",
    "    child_pop = []\n",
    "    \n",
    "    for i in range(len(initial_pop)):\n",
    "        for j in range(i+1,len(initial_pop)-1):\n",
    "            print(i,j)\n",
    "            if(initial_pop[i]==initial_pop[j]):\n",
    "                initial_pop.pop(j)\n",
    "    u, l = selection(initial_pop, k=0.2)\n",
    "    for i in range(len(u)):\n",
    "        c1, c2 = crossover(initial_pop[u[i]][0], initial_pop[l[i]][0])\n",
    "        #print(c1)\n",
    "        #print(c2)\n",
    "        child_pop.append( c1)\n",
    "        child_pop.append( c2 )\n",
    "    \n",
    "    for i in child_pop:\n",
    "        initial_pop.append(i)\n",
    "    #print(len(initial_pop))\n",
    "    \n",
    "        \n",
    "    initial_pop.sort( key = sorting, reverse = True)\n",
    "    if (len(initial_pop)>10):\n",
    "        initial_pop = initial_pop[:10]\n",
    "    "
   ]
  },
  {
   "cell_type": "code",
   "execution_count": 178,
   "metadata": {},
   "outputs": [
    {
     "data": {
      "text/plain": [
       "[[[['G2',\n",
       "    'absences',\n",
       "    'G2',\n",
       "    'G2',\n",
       "    'G1',\n",
       "    'G2',\n",
       "    'G1',\n",
       "    None,\n",
       "    None,\n",
       "    None,\n",
       "    None,\n",
       "    None,\n",
       "    None,\n",
       "    None,\n",
       "    None],\n",
       "   [10.5, 1.0, 15.5, 6.5, 11.5, 14.5, 15.5, 0, 1, 1, 2, 2, 2, 3, 3]],\n",
       "  0.8067226890756303],\n",
       " [[['G2',\n",
       "    'absences',\n",
       "    'G2',\n",
       "    'G2',\n",
       "    'G1',\n",
       "    'G2',\n",
       "    'G1',\n",
       "    None,\n",
       "    None,\n",
       "    None,\n",
       "    None,\n",
       "    None,\n",
       "    None,\n",
       "    None,\n",
       "    None],\n",
       "   [10.5, 1.0, 15.5, 6.5, 11.5, 14.5, 15.5, 0, 1, 1, 2, 2, 2, 3, 3]],\n",
       "  0.8067226890756303],\n",
       " [[['G2',\n",
       "    'absences',\n",
       "    'G2',\n",
       "    'G2',\n",
       "    'G1',\n",
       "    'G2',\n",
       "    'G1',\n",
       "    None,\n",
       "    None,\n",
       "    None,\n",
       "    None,\n",
       "    None,\n",
       "    None,\n",
       "    None,\n",
       "    None],\n",
       "   [10.5, 1.0, 15.5, 6.5, 11.5, 14.5, 15.5, 0, 1, 1, 2, 2, 2, 3, 3]],\n",
       "  0.8067226890756303],\n",
       " [[['G2',\n",
       "    'absences',\n",
       "    'G2',\n",
       "    None,\n",
       "    'G1',\n",
       "    'G2',\n",
       "    'G1',\n",
       "    -1,\n",
       "    -1,\n",
       "    None,\n",
       "    None,\n",
       "    None,\n",
       "    None,\n",
       "    None,\n",
       "    None],\n",
       "   [10.5, 1.0, 15.5, 2, 11.5, 14.5, 15.5, -1, -1, 1, 2, 2, 2, 3, 3]],\n",
       "  0.7310924369747899],\n",
       " [[['G2',\n",
       "    'absences',\n",
       "    'G2',\n",
       "    'romantic',\n",
       "    'G1',\n",
       "    'G2',\n",
       "    'G1',\n",
       "    None,\n",
       "    None,\n",
       "    None,\n",
       "    None,\n",
       "    None,\n",
       "    None,\n",
       "    None,\n",
       "    None],\n",
       "   [10.5, 1.0, 15.5, 0.5, 11.5, 14.5, 15.5, 2, 2, 1, 2, 2, 2, 3, 3]],\n",
       "  0.7310924369747899],\n",
       " [[['G2',\n",
       "    'absences',\n",
       "    'G2',\n",
       "    'romantic',\n",
       "    'G1',\n",
       "    'G2',\n",
       "    'G1',\n",
       "    None,\n",
       "    None,\n",
       "    None,\n",
       "    None,\n",
       "    None,\n",
       "    None,\n",
       "    None,\n",
       "    None],\n",
       "   [10.5, 1.0, 15.5, 0.5, 11.5, 14.5, 15.5, 2, 2, 1, 2, 2, 2, 3, 3]],\n",
       "  0.7310924369747899],\n",
       " [[['G2',\n",
       "    'absences',\n",
       "    'studytime',\n",
       "    'G2',\n",
       "    'G1',\n",
       "    None,\n",
       "    None,\n",
       "    None,\n",
       "    None,\n",
       "    None,\n",
       "    None,\n",
       "    -1,\n",
       "    -1,\n",
       "    -1,\n",
       "    -1],\n",
       "   [10.5, 1.0, 1.5, 6.5, 11.5, 1, 2, 0, 1, 1, 2, -1, -1, -1, -1]],\n",
       "  0.6470588235294118],\n",
       " [[['address',\n",
       "    'absences',\n",
       "    'age',\n",
       "    'G2',\n",
       "    'G1',\n",
       "    None,\n",
       "    None,\n",
       "    None,\n",
       "    None,\n",
       "    None,\n",
       "    None,\n",
       "    -1.0,\n",
       "    -1.0,\n",
       "    -1.0,\n",
       "    -1.0],\n",
       "   [0.5, 1.0, 15.5, 6.5, 11.5, 1, 1, 0, 1, 1, 2, -1.0, -1.0, -1.0, -1.0]],\n",
       "  0.6218487394957983],\n",
       " [[['address',\n",
       "    'absences',\n",
       "    'G2',\n",
       "    'G2',\n",
       "    'G1',\n",
       "    'G2',\n",
       "    'G1',\n",
       "    None,\n",
       "    None,\n",
       "    None,\n",
       "    None,\n",
       "    None,\n",
       "    None,\n",
       "    None,\n",
       "    None],\n",
       "   [0.5, 1.0, 15.5, 6.5, 11.5, 14.5, 15.5, 0, 1, 1, 2, 2, 2, 3, 3]],\n",
       "  0.6218487394957983],\n",
       " [[['G2',\n",
       "    'age',\n",
       "    'G2',\n",
       "    None,\n",
       "    None,\n",
       "    'G2',\n",
       "    'G1',\n",
       "    -1,\n",
       "    -1,\n",
       "    -1,\n",
       "    -1,\n",
       "    None,\n",
       "    None,\n",
       "    None,\n",
       "    None],\n",
       "   [10.5, 17.5, 15.5, 2, 1, 14.5, 15.5, -1, -1, -1, -1, 2, 2, 3, 3]],\n",
       "  0.5966386554621849]]"
      ]
     },
     "execution_count": 178,
     "metadata": {},
     "output_type": "execute_result"
    }
   ],
   "source": [
    "initial_pop"
   ]
  },
  {
   "cell_type": "code",
   "execution_count": 187,
   "metadata": {},
   "outputs": [
    {
     "name": "stdout",
     "output_type": "stream",
     "text": [
      "0.8067226890756303\n",
      "0.8067226890756303\n",
      "0.7394957983193278\n",
      "0.7310924369747899\n",
      "0.6470588235294118\n",
      "0.6470588235294118\n",
      "0.6386554621848739\n",
      "0.6218487394957983\n"
     ]
    }
   ],
   "source": [
    "for i in initial_pop:\n",
    "    print(i[1])"
   ]
  },
  {
   "cell_type": "code",
   "execution_count": 65,
   "metadata": {
    "collapsed": true
   },
   "outputs": [],
   "source": [
    "def initial():\n",
    "    initial_pop = []\n",
    "    initial_chrom = []\n",
    "    child_chrom = []\n",
    "    ch1 = encoding(clf1, col_names1)\n",
    "    initial_chrom.append(ch1)\n",
    "    #print(1)\n",
    "    ch2 = encoding(clf2, col_names2)\n",
    "    initial_chrom.append(ch2)\n",
    "    #print(2)\n",
    "    ch3 = encoding(clf3, col_names3)\n",
    "    initial_chrom.append(ch3)\n",
    "    #print(3)\n",
    "    \n",
    "    #print(4)\n",
    "    ctr = 0\n",
    "    \n",
    "    for i in initial_chrom:\n",
    "        #print(ctr + 1 )\n",
    "        f = fitnessvalue(i)\n",
    "        initial_pop.append([i,f])\n",
    "    \n",
    "    for i in range(len(initial_chrom)):\n",
    "        for j in range(i+1, len(initial_chrom)):\n",
    "            c1, c2 = crossover( initial_pop[i][0],initial_pop[j][0] )\n",
    "            #print(c1)\n",
    "            cm1 = mutation(c1[0],0.5)\n",
    "            cm2 = mutation(c2[0],0.5)\n",
    "            print(fitnessvalue(cm1),c1[1])\n",
    "            print(cm1)\n",
    "            print(c1[0])\n",
    "            print(fitnessvalue(cm2),c2[1])\n",
    "            print(cm2)\n",
    "            print(c2[0])\n",
    "            child_chrom.append(c1)\n",
    "            child_chrom.append(c2)\n",
    "\n",
    "    for i in child_chrom:\n",
    "        initial_pop.append(i)\n",
    "    \n",
    "    initial_pop.sort(key = sorting, reverse = True)\n",
    "    initial_pop = initial_pop[:10]\n",
    "    return( initial_pop)"
   ]
  },
  {
   "cell_type": "code",
   "execution_count": 66,
   "metadata": {},
   "outputs": [
    {
     "name": "stdout",
     "output_type": "stream",
     "text": [
      "0.3697478991596639 0.48739495798319327\n",
      "[['address', 'age', 'age', None, None, None, None], [0.5, 17.5, 15.5, 1, 1, 1, 3]]\n",
      "[['address', 'age', 'age', None, None, None, None], [0.5, 17.5, 15.5, 1, 1, 1, 3]]\n",
      "0.44537815126050423 0.48739495798319327\n",
      "[['traveltime', 'freetime', 'studytime', None, None, None, None], [1.5, 4.5, 1.5, 2, 1, 2, 2]]\n",
      "[['traveltime', 'freetime', 'studytime', None, None, None, None], [1.5, 4.5, 1.5, 2, 1, 2, 2]]\n",
      "0.3025210084033613 0.48739495798319327\n",
      "[['address', 'age', 'age', 'romantic', None, None, None, None, None, -1.0, -1.0, -1.0, -1.0, -1.0, -1.0], [0.5, 17.5, 15.5, 0.5, 1, 2, 1, 0, 2, -1.0, -1.0, -1.0, -1.0, -1.0, -1.0]]\n",
      "[['address', 'age', 'age', 'romantic', None, None, None, None, None, -1.0, -1.0, -1.0, -1.0, -1.0, -1.0], [0.5, 17.5, 15.5, 0.5, 1, 2, 1, 0, 2, -1.0, -1.0, -1.0, -1.0, -1.0, -1.0]]\n",
      "0.42857142857142855 0.47058823529411764\n",
      "[['goout', 'Walc', 'famrel', None, 'Walc', 'Walc', 'goout', -1, -1, None, None, None, None, None, None], [3.5, 2.5, 2.5, 2, 4.5, 4.5, 4.5, -1, -1, 1, 2, 2, 2, 1, 3]]\n",
      "[['goout', 'Walc', 'famrel', None, 'Walc', 'Walc', 'goout', -1, -1, None, None, None, None, None, None], [3.5, 2.5, 2.5, 2, 4.5, 4.5, 4.5, -1, -1, 1, 2, 2, 2, 1, 3]]\n",
      "0.29411764705882354 0.48739495798319327\n",
      "[['traveltime', 'freetime', 'studytime', 'romantic', None, None, None, None, None, -1.0, -1.0, -1.0, -1.0, -1.0, -1.0], [1.5, 4.5, 1.5, 0.5, 2, 3, 3, 2, 2, -1.0, -1.0, -1.0, -1.0, -1.0, -1.0]]\n",
      "[['traveltime', 'freetime', 'studytime', 'romantic', None, None, None, None, None, -1.0, -1.0, -1.0, -1.0, -1.0, -1.0], [1.5, 4.5, 1.5, 0.5, 2, 3, 3, 2, 2, -1.0, -1.0, -1.0, -1.0, -1.0, -1.0]]\n",
      "0.47058823529411764 0.47058823529411764\n",
      "[['goout', 'Walc', 'famrel', None, 'Walc', 'Walc', 'goout', -1, -1, None, None, None, None, None, None], [3.5, 2.5, 2.5, 2, 4.5, 4.5, 4.5, -1, -1, 1, 2, 0, 2, 1, 1]]\n",
      "[['goout', 'Walc', 'famrel', None, 'Walc', 'Walc', 'goout', -1, -1, None, None, None, None, None, None], [3.5, 2.5, 2.5, 2, 4.5, 4.5, 4.5, -1, -1, 1, 2, 0, 2, 1, 1]]\n"
     ]
    }
   ],
   "source": [
    "initial_pop = initial()\n",
    "#print(len(initial_pop))"
   ]
  },
  {
   "cell_type": "code",
   "execution_count": 43,
   "metadata": {},
   "outputs": [
    {
     "name": "stdout",
     "output_type": "stream",
     "text": [
      "0.5042016806722689\n",
      "0.48739495798319327\n",
      "0.48739495798319327\n",
      "0.47058823529411764\n",
      "0.46218487394957986\n",
      "0.46218487394957986\n",
      "0.46218487394957986\n",
      "0.453781512605042\n",
      "0.42857142857142855\n"
     ]
    }
   ],
   "source": [
    "for i in initial_pop:\n",
    "    print (i[1])"
   ]
  },
  {
   "cell_type": "code",
   "execution_count": 69,
   "metadata": {},
   "outputs": [
    {
     "name": "stdout",
     "output_type": "stream",
     "text": [
      "0.48739495798319327\n"
     ]
    }
   ],
   "source": [
    "ch2 = encoding(clf2, col_names2)\n",
    "print(fitnessvalue(ch2))"
   ]
  },
  {
   "cell_type": "code",
   "execution_count": null,
   "metadata": {
    "collapsed": true
   },
   "outputs": [],
   "source": []
  },
  {
   "cell_type": "code",
   "execution_count": null,
   "metadata": {
    "collapsed": true
   },
   "outputs": [],
   "source": []
  },
  {
   "cell_type": "code",
   "execution_count": null,
   "metadata": {
    "collapsed": true
   },
   "outputs": [],
   "source": []
  },
  {
   "cell_type": "code",
   "execution_count": null,
   "metadata": {
    "collapsed": true
   },
   "outputs": [],
   "source": []
  },
  {
   "cell_type": "code",
   "execution_count": null,
   "metadata": {
    "collapsed": true
   },
   "outputs": [],
   "source": []
  }
 ],
 "metadata": {
  "kernelspec": {
   "display_name": "Python 3",
   "language": "python",
   "name": "python3"
  },
  "language_info": {
   "codemirror_mode": {
    "name": "ipython",
    "version": 3
   },
   "file_extension": ".py",
   "mimetype": "text/x-python",
   "name": "python",
   "nbconvert_exporter": "python",
   "pygments_lexer": "ipython3",
   "version": "3.6.3"
  }
 },
 "nbformat": 4,
 "nbformat_minor": 2
}
